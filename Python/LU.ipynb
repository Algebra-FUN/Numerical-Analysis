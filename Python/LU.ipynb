{
 "cells": [
  {
   "cell_type": "code",
   "execution_count": 1,
   "id": "seeing-luther",
   "metadata": {},
   "outputs": [],
   "source": [
    "import numpy as np\n",
    "from numpy.linalg import det\n",
    "\n",
    "from functools import reduce"
   ]
  },
  {
   "cell_type": "code",
   "execution_count": 2,
   "id": "governing-consequence",
   "metadata": {},
   "outputs": [],
   "source": [
    "def LU(A:np.ndarray):\n",
    "    assert A.ndim == 2\n",
    "    n = A.shape[0]\n",
    "    assert n == A.shape[1]\n",
    "    L = np.eye(n,n)\n",
    "    U = np.zeros((n,n))\n",
    "    for r in range(n):\n",
    "        U[r,r:n] = A[r,r:n] - L[r,0:r]@U[0:r,r:n]\n",
    "        L[r+1:n,r] = (A[r+1:n,r] -L[r+1:n,0:r]@U[0:r,r])/U[r,r]\n",
    "    return L,U"
   ]
  },
  {
   "cell_type": "code",
   "execution_count": 3,
   "id": "biological-precipitation",
   "metadata": {},
   "outputs": [
    {
     "data": {
      "text/plain": [
       "array([[10.      , -7.      ,  0.      ,  1.      ],\n",
       "       [-3.      ,  2.099999,  6.      ,  2.      ],\n",
       "       [ 5.      , -1.      ,  5.      , -1.      ],\n",
       "       [ 2.      ,  1.      ,  0.      ,  2.      ]])"
      ]
     },
     "execution_count": 3,
     "metadata": {},
     "output_type": "execute_result"
    }
   ],
   "source": [
    "A = np.array([\n",
    "        [10,-7,0,1],\n",
    "        [-3,2.099999,6,2],\n",
    "        [5,-1,5,-1],\n",
    "        [2,1,0,2]\n",
    "    ])\n",
    "A"
   ]
  },
  {
   "cell_type": "code",
   "execution_count": 4,
   "id": "serial-curtis",
   "metadata": {},
   "outputs": [],
   "source": [
    "L,U=LU(A)"
   ]
  },
  {
   "cell_type": "code",
   "execution_count": 5,
   "id": "covered-metallic",
   "metadata": {},
   "outputs": [
    {
     "data": {
      "text/plain": [
       "array([[ 1.0000000e+00,  0.0000000e+00,  0.0000000e+00,  0.0000000e+00],\n",
       "       [-3.0000000e-01,  1.0000000e+00,  0.0000000e+00,  0.0000000e+00],\n",
       "       [ 5.0000000e-01, -2.5000000e+06,  1.0000000e+00,  0.0000000e+00],\n",
       "       [ 2.0000000e-01, -2.4000000e+06,  9.5999968e-01,  1.0000000e+00]])"
      ]
     },
     "execution_count": 5,
     "metadata": {},
     "output_type": "execute_result"
    }
   ],
   "source": [
    "L"
   ]
  },
  {
   "cell_type": "code",
   "execution_count": 6,
   "id": "convertible-jordan",
   "metadata": {},
   "outputs": [
    {
     "data": {
      "text/plain": [
       "array([[ 1.00000000e+01, -7.00000000e+00,  0.00000000e+00,\n",
       "         1.00000000e+00],\n",
       "       [ 0.00000000e+00, -1.00000000e-06,  6.00000000e+00,\n",
       "         2.30000000e+00],\n",
       "       [ 0.00000000e+00,  0.00000000e+00,  1.50000050e+07,\n",
       "         5.74999850e+06],\n",
       "       [ 0.00000000e+00,  0.00000000e+00,  0.00000000e+00,\n",
       "         5.07999891e+00]])"
      ]
     },
     "execution_count": 6,
     "metadata": {},
     "output_type": "execute_result"
    }
   ],
   "source": [
    "U"
   ]
  },
  {
   "cell_type": "code",
   "execution_count": null,
   "id": "cheap-match",
   "metadata": {},
   "outputs": [],
   "source": []
  }
 ],
 "metadata": {
  "kernelspec": {
   "display_name": "Python 3",
   "language": "python",
   "name": "python3"
  },
  "language_info": {
   "codemirror_mode": {
    "name": "ipython",
    "version": 3
   },
   "file_extension": ".py",
   "mimetype": "text/x-python",
   "name": "python",
   "nbconvert_exporter": "python",
   "pygments_lexer": "ipython3",
   "version": "3.8.7"
  },
  "metadata": {
   "interpreter": {
    "hash": "1baa965d5efe3ac65b79dfc60c0d706280b1da80fedb7760faf2759126c4f253"
   }
  }
 },
 "nbformat": 4,
 "nbformat_minor": 5
}
