{
 "cells": [
  {
   "cell_type": "code",
   "execution_count": 1,
   "metadata": {},
   "outputs": [],
   "source": [
    "function [L,U] = LU(A)\n",
    "    n = length(A);\n",
    "    L = eye(n);\n",
    "    U = zeros(n);\n",
    "    for r = 1:n\n",
    "        U(r,r:n) = A(r,r:n) - L(r,1:r-1)*U(1:r-1,r:n);\n",
    "        L(r+1:n,r) = (A(r+1:n,r) - L(r+1:n,1:r-1)*U(1:r-1,r))/U(r,r);\n",
    "    end\n",
    "endfunction"
   ]
  },
  {
   "cell_type": "code",
   "execution_count": 2,
   "metadata": {},
   "outputs": [
    {
     "name": "stdout",
     "output_type": "stream",
     "text": [
      "A =\n",
      "\n",
      "   1   2   3\n",
      "   2   5   2\n",
      "   3   1   5\n",
      "\n"
     ]
    }
   ],
   "source": [
    "A = [1 2 3;2 5 2;3 1 5]"
   ]
  },
  {
   "cell_type": "code",
   "execution_count": 3,
   "metadata": {},
   "outputs": [],
   "source": [
    "[L,U]=LU(A);"
   ]
  },
  {
   "cell_type": "code",
   "execution_count": 4,
   "metadata": {},
   "outputs": [
    {
     "name": "stdout",
     "output_type": "stream",
     "text": [
      "L =\n",
      "\n",
      "   1   0   0\n",
      "   2   1   0\n",
      "   3  -5   1\n",
      "\n",
      "U =\n",
      "\n",
      "    1    2    3\n",
      "    0    1   -4\n",
      "    0    0  -24\n",
      "\n"
     ]
    }
   ],
   "source": [
    "L,U"
   ]
  }
 ],
 "metadata": {
  "kernelspec": {
   "display_name": "Octave",
   "language": "octave",
   "name": "octave"
  },
  "language_info": {
   "file_extension": ".m",
   "help_links": [
    {
     "text": "GNU Octave",
     "url": "https://www.gnu.org/software/octave/support.html"
    },
    {
     "text": "Octave Kernel",
     "url": "https://github.com/Calysto/octave_kernel"
    },
    {
     "text": "MetaKernel Magics",
     "url": "https://metakernel.readthedocs.io/en/latest/source/README.html"
    }
   ],
   "mimetype": "text/x-octave",
   "name": "octave",
   "version": "5.2.0"
  }
 },
 "nbformat": 4,
 "nbformat_minor": 4
}
