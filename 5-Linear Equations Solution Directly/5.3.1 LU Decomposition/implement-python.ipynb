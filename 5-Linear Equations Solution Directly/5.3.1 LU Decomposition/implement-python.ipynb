{
 "cells": [
  {
   "cell_type": "code",
   "execution_count": 1,
   "id": "moral-jonathan",
   "metadata": {},
   "outputs": [],
   "source": [
    "from LU_Decomposition import LU\n",
    "\n",
    "import numpy as np\r\n",
    "import MatDisp"
   ]
  },
  {
   "cell_type": "code",
   "execution_count": 2,
   "id": "regional-basket",
   "metadata": {},
   "outputs": [
    {
     "data": {
      "text/markdown": [
       "$$\\begin{bmatrix}1&2&3\\\\2&5&2\\\\3&1&5\\end{bmatrix}$$"
      ],
      "text/plain": [
       "array([[1, 2, 3],\n",
       "       [2, 5, 2],\n",
       "       [3, 1, 5]])"
      ]
     },
     "execution_count": 2,
     "metadata": {},
     "output_type": "execute_result"
    }
   ],
   "source": [
    "A = np.array([\n",
    "        [1,2,3],\n",
    "        [2,5,2],\n",
    "        [3,1,5]\n",
    "    ])\n",
    "A"
   ]
  },
  {
   "cell_type": "code",
   "execution_count": 3,
   "id": "crucial-payment",
   "metadata": {},
   "outputs": [],
   "source": [
    "L,U=LU(A)"
   ]
  },
  {
   "cell_type": "code",
   "execution_count": 4,
   "id": "written-straight",
   "metadata": {},
   "outputs": [
    {
     "data": {
      "text/markdown": [
       "$$\\begin{bmatrix}1&0&0\\\\2&1&0\\\\3&-5&1\\end{bmatrix}$$"
      ],
      "text/plain": [
       "array([[ 1.,  0.,  0.],\n",
       "       [ 2.,  1.,  0.],\n",
       "       [ 3., -5.,  1.]])"
      ]
     },
     "execution_count": 4,
     "metadata": {},
     "output_type": "execute_result"
    }
   ],
   "source": [
    "L"
   ]
  },
  {
   "cell_type": "code",
   "execution_count": 5,
   "id": "offshore-cisco",
   "metadata": {},
   "outputs": [
    {
     "data": {
      "text/markdown": [
       "$$\\begin{bmatrix}1&2&3\\\\0&1&-4\\\\0&0&-24\\end{bmatrix}$$"
      ],
      "text/plain": [
       "array([[  1.,   2.,   3.],\n",
       "       [  0.,   1.,  -4.],\n",
       "       [  0.,   0., -24.]])"
      ]
     },
     "execution_count": 5,
     "metadata": {},
     "output_type": "execute_result"
    }
   ],
   "source": [
    "U"
   ]
  }
 ],
 "metadata": {
  "kernelspec": {
   "display_name": "Python 3",
   "language": "python",
   "name": "python3"
  },
  "language_info": {
   "codemirror_mode": {
    "name": "ipython",
    "version": 3
   },
   "file_extension": ".py",
   "mimetype": "text/x-python",
   "name": "python",
   "nbconvert_exporter": "python",
   "pygments_lexer": "ipython3",
   "version": "3.8.7"
  },
  "metadata": {
   "interpreter": {
    "hash": "1baa965d5efe3ac65b79dfc60c0d706280b1da80fedb7760faf2759126c4f253"
   }
  }
 },
 "nbformat": 4,
 "nbformat_minor": 5
}
