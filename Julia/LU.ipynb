{
 "cells": [
  {
   "cell_type": "code",
   "execution_count": 16,
   "id": "advised-observer",
   "metadata": {},
   "outputs": [
    {
     "data": {
      "text/plain": [
       "eye (generic function with 1 method)"
      ]
     },
     "execution_count": 16,
     "metadata": {},
     "output_type": "execute_result"
    }
   ],
   "source": [
    "using LinearAlgebra,TimeIt\n",
    "\n",
    "eye(n) = Matrix{Float64}(I,n,n)"
   ]
  },
  {
   "cell_type": "code",
   "execution_count": 10,
   "id": "associate-builder",
   "metadata": {},
   "outputs": [
    {
     "data": {
      "text/plain": [
       "LU! (generic function with 1 method)"
      ]
     },
     "execution_count": 10,
     "metadata": {},
     "output_type": "execute_result"
    }
   ],
   "source": [
    "function LU!(A)\n",
    "    n = size(A)[1]\n",
    "    L = eye(n)\n",
    "    U = zeros(n,n)\n",
    "    U[1,1:n] = A[1,1:n]\n",
    "    L[2:n,1] = A[2:n,1]/U[1,1]\n",
    "    for r = 2:n\n",
    "        U[r:r,r:n] = A[r:r,r:n] - L[r:r,1:r-1]*U[1:r-1,r:n]\n",
    "        if r < n\n",
    "            L[r+1:n,r:r] = (A[r+1:n,r:r] - L[r+1:n,1:r-1]*U[1:r-1,r:r])/U[r,r]\n",
    "        end\n",
    "    end\n",
    "    return L,U\n",
    "end"
   ]
  },
  {
   "cell_type": "code",
   "execution_count": 6,
   "id": "prime-knock",
   "metadata": {},
   "outputs": [
    {
     "data": {
      "text/plain": [
       "3×3 Array{Int64,2}:\n",
       " 1  2  3\n",
       " 2  5  2\n",
       " 3  1  5"
      ]
     },
     "execution_count": 6,
     "metadata": {},
     "output_type": "execute_result"
    }
   ],
   "source": [
    "A = [1 2 3;2 5 2;3 1 5]"
   ]
  },
  {
   "cell_type": "code",
   "execution_count": 12,
   "id": "sweet-mileage",
   "metadata": {},
   "outputs": [
    {
     "name": "stdout",
     "output_type": "stream",
     "text": [
      "1 loops, best of 3: 2.27 µs per loop\n"
     ]
    }
   ],
   "source": [
    "@timeit L,U=LU!(A);"
   ]
  },
  {
   "cell_type": "code",
   "execution_count": 13,
   "id": "fiscal-vatican",
   "metadata": {},
   "outputs": [
    {
     "data": {
      "text/plain": [
       "3×3 Array{Float64,2}:\n",
       " 1.0   0.0  0.0\n",
       " 2.0   1.0  0.0\n",
       " 3.0  -5.0  1.0"
      ]
     },
     "execution_count": 13,
     "metadata": {},
     "output_type": "execute_result"
    }
   ],
   "source": [
    "L"
   ]
  },
  {
   "cell_type": "code",
   "execution_count": 14,
   "id": "surprised-simon",
   "metadata": {},
   "outputs": [
    {
     "data": {
      "text/plain": [
       "3×3 Array{Float64,2}:\n",
       " 1.0  2.0    3.0\n",
       " 0.0  1.0   -4.0\n",
       " 0.0  0.0  -24.0"
      ]
     },
     "execution_count": 14,
     "metadata": {},
     "output_type": "execute_result"
    }
   ],
   "source": [
    "U"
   ]
  },
  {
   "cell_type": "code",
   "execution_count": null,
   "id": "catholic-airline",
   "metadata": {},
   "outputs": [],
   "source": []
  }
 ],
 "metadata": {
  "kernelspec": {
   "display_name": "Julia",
   "language": "julia",
   "name": "julia-1.3"
  },
  "language_info": {
   "file_extension": ".jl",
   "mimetype": "application/julia",
   "name": "julia",
   "version": "1.3.1"
  }
 },
 "nbformat": 4,
 "nbformat_minor": 5
}
