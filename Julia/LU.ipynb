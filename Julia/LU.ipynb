{
 "cells": [
  {
   "cell_type": "code",
   "execution_count": 31,
   "id": "august-buddy",
   "metadata": {},
   "outputs": [
    {
     "data": {
      "text/plain": [
       "eye (generic function with 1 method)"
      ]
     },
     "execution_count": 31,
     "metadata": {},
     "output_type": "execute_result"
    }
   ],
   "source": [
    "using LinearAlgebra,TimeIt\n",
    "\n",
    "include(\"MatrixDisp.jl\")\n",
    "\n",
    "eye(n) = Matrix{Float64}(I,n,n)"
   ]
  },
  {
   "cell_type": "code",
   "execution_count": 34,
   "id": "historical-triple",
   "metadata": {},
   "outputs": [
    {
     "data": {
      "text/plain": [
       "LU! (generic function with 1 method)"
      ]
     },
     "execution_count": 34,
     "metadata": {},
     "output_type": "execute_result"
    }
   ],
   "source": [
    "function LU!(A)\n",
    "    n = size(A)[1]\n",
    "    @assert n == size(A)[2] \"The Matrix must be square matrix!\"\n",
    "    L = eye(n)\n",
    "    U = zeros(n,n)\n",
    "    U[1,1:n] = A[1,1:n]\n",
    "    L[2:n,1] = A[2:n,1]/U[1,1]\n",
    "    for r = 2:n\n",
    "        U[r:r,r:n] = A[r:r,r:n] - L[r:r,1:r-1]*U[1:r-1,r:n]\n",
    "        if r < n\n",
    "            L[r+1:n,r:r] = (A[r+1:n,r:r] - L[r+1:n,1:r-1]*U[1:r-1,r:r])/U[r,r]\n",
    "        end\n",
    "    end\n",
    "    return L,U\n",
    "end"
   ]
  },
  {
   "cell_type": "code",
   "execution_count": 32,
   "id": "operational-financing",
   "metadata": {},
   "outputs": [
    {
     "data": {
      "text/html": [
       "$$\n",
       "A=\\begin{bmatrix}1&2&3\\\\2&5&2\\\\3&1&5\\end{bmatrix}\n",
       "$$"
      ],
      "text/plain": [
       "HTML{String}(\"\\$\\$\\nA=\\\\begin{bmatrix}1&2&3\\\\\\\\2&5&2\\\\\\\\3&1&5\\\\end{bmatrix}\\n\\$\\$\")"
      ]
     },
     "execution_count": 32,
     "metadata": {},
     "output_type": "execute_result"
    }
   ],
   "source": [
    "@latex A = [1 2 3;2 5 2;3 1 5]"
   ]
  },
  {
   "cell_type": "code",
   "execution_count": 33,
   "id": "widespread-ottawa",
   "metadata": {},
   "outputs": [
    {
     "name": "stdout",
     "output_type": "stream",
     "text": [
      "1 loops, best of 3: 2.28 µs per loop\n"
     ]
    }
   ],
   "source": [
    "@timeit L,U = A |> LU!;"
   ]
  },
  {
   "cell_type": "code",
   "execution_count": 36,
   "id": "attempted-skiing",
   "metadata": {},
   "outputs": [
    {
     "data": {
      "text/html": [
       "$$\n",
       "L=\\begin{bmatrix}1.0&0.0&0.0\\\\2.0&1.0&0.0\\\\3.0&-5.0&1.0\\end{bmatrix}\n",
       "$$"
      ],
      "text/plain": [
       "HTML{String}(\"\\$\\$\\nL=\\\\begin{bmatrix}1.0&0.0&0.0\\\\\\\\2.0&1.0&0.0\\\\\\\\3.0&-5.0&1.0\\\\end{bmatrix}\\n\\$\\$\")"
      ]
     },
     "execution_count": 36,
     "metadata": {},
     "output_type": "execute_result"
    }
   ],
   "source": [
    "@latex L"
   ]
  },
  {
   "cell_type": "code",
   "execution_count": 37,
   "id": "august-affect",
   "metadata": {},
   "outputs": [
    {
     "data": {
      "text/html": [
       "$$\n",
       "U=\\begin{bmatrix}1.0&2.0&3.0\\\\0.0&1.0&-4.0\\\\0.0&0.0&-24.0\\end{bmatrix}\n",
       "$$"
      ],
      "text/plain": [
       "HTML{String}(\"\\$\\$\\nU=\\\\begin{bmatrix}1.0&2.0&3.0\\\\\\\\0.0&1.0&-4.0\\\\\\\\0.0&0.0&-24.0\\\\end{bmatrix}\\n\\$\\$\")"
      ]
     },
     "execution_count": 37,
     "metadata": {},
     "output_type": "execute_result"
    }
   ],
   "source": [
    "@latex U"
   ]
  }
 ],
 "metadata": {
  "kernelspec": {
   "display_name": "Julia",
   "language": "julia",
   "name": "julia-1.3"
  },
  "language_info": {
   "file_extension": ".jl",
   "mimetype": "application/julia",
   "name": "julia",
   "version": "1.3.1"
  }
 },
 "nbformat": 4,
 "nbformat_minor": 5
}
