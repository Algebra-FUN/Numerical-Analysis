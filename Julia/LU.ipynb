{
 "cells": [
  {
   "cell_type": "markdown",
   "id": "spoken-grade",
   "metadata": {},
   "source": [
    "# 线性方程组求解\n",
    "> 书第五章计算实习题1（P78）"
   ]
  },
  {
   "cell_type": "code",
   "execution_count": 137,
   "id": "angry-commissioner",
   "metadata": {},
   "outputs": [
    {
     "data": {
      "text/plain": [
       "@swap (macro with 1 method)"
      ]
     },
     "execution_count": 137,
     "metadata": {},
     "output_type": "execute_result"
    }
   ],
   "source": [
    "using LinearAlgebra,BenchmarkTools,LambdaFn\n",
    "\n",
    "include(\"MatrixKit.jl\")\n",
    "include(\"Swap.jl\")"
   ]
  },
  {
   "cell_type": "code",
   "execution_count": 138,
   "id": "supported-aaron",
   "metadata": {},
   "outputs": [
    {
     "data": {
      "text/latex": [
       "<center>$A=\\begin{bmatrix}10.0&-7.0&0.0&1.0\\\\-3.0&2.099999&6.0&2.0\\\\5.0&-1.0&5.0&-1.0\\\\2.0&1.0&0.0&2.0\\end{bmatrix}$</center>\n",
       "\n"
      ],
      "text/markdown": [
       "<center>$A=\\begin{bmatrix}10.0&-7.0&0.0&1.0\\\\-3.0&2.099999&6.0&2.0\\\\5.0&-1.0&5.0&-1.0\\\\2.0&1.0&0.0&2.0\\end{bmatrix}$</center>\n"
      ],
      "text/plain": [
       "  <center>\u001b[35mA=\\begin{bmatrix}10.0&-7.0&0.0&1.0\\\\-3.0&2.099999&6.0&2.0\\\\5.0&-1.0&5.0&-1.0\\\\2.0&1.0&0.0&2.0\\end{bmatrix}\u001b[39m</center>"
      ]
     },
     "execution_count": 138,
     "metadata": {},
     "output_type": "execute_result"
    }
   ],
   "source": [
    "@latex A = [10 -7 0 1;-3 2.099999 6 2;5 -1 5 -1;2 1 0 2]"
   ]
  },
  {
   "cell_type": "code",
   "execution_count": 139,
   "id": "compatible-coordinate",
   "metadata": {},
   "outputs": [
    {
     "data": {
      "text/latex": [
       "<center>$b=\\begin{bmatrix}8.0\\\\5.900001\\\\5.0\\\\1.0\\end{bmatrix}$</center>\n",
       "\n"
      ],
      "text/markdown": [
       "<center>$b=\\begin{bmatrix}8.0\\\\5.900001\\\\5.0\\\\1.0\\end{bmatrix}$</center>\n"
      ],
      "text/plain": [
       "  <center>\u001b[35mb=\\begin{bmatrix}8.0\\\\5.900001\\\\5.0\\\\1.0\\end{bmatrix}\u001b[39m</center>"
      ]
     },
     "execution_count": 139,
     "metadata": {},
     "output_type": "execute_result"
    }
   ],
   "source": [
    "@latex b = [8;5.900001;5;1]"
   ]
  },
  {
   "cell_type": "markdown",
   "id": "catholic-wildlife",
   "metadata": {},
   "source": [
    "## LU分解方法计算"
   ]
  },
  {
   "cell_type": "code",
   "execution_count": 4,
   "id": "distinct-victim",
   "metadata": {},
   "outputs": [
    {
     "data": {
      "text/plain": [
       "LU! (generic function with 1 method)"
      ]
     },
     "execution_count": 4,
     "metadata": {},
     "output_type": "execute_result"
    }
   ],
   "source": [
    "function LU!(A::Matrix)\n",
    "    n = size(A)[1]\n",
    "    @assert n == size(A)[2] \"The Matrix must be square matrix!\"\n",
    "    L = eye(n)\n",
    "    U = zeros(n,n)\n",
    "    for r = 1:n\n",
    "        U[r:r,r:n] = A[r:r,r:n] - L[r:r,1:r-1]*U[1:r-1,r:n]\n",
    "        L[r+1:n,r:r] = (A[r+1:n,r:r] - L[r+1:n,1:r-1]*U[1:r-1,r:r])/U[r,r]\n",
    "    end\n",
    "    return L,U\n",
    "end"
   ]
  },
  {
   "cell_type": "code",
   "execution_count": 5,
   "id": "funky-outreach",
   "metadata": {},
   "outputs": [
    {
     "data": {
      "text/latex": [
       "<center>$L=\\begin{bmatrix}1.0&0.0&0.0&0.0\\\\-0.3&1.0&0.0&0.0\\\\0.5&-2.499999999650555e6&1.0&0.0\\\\0.2&-2.3999999996645334e6&0.9599996800001067&1.0\\end{bmatrix}$</center>\n",
       "\n"
      ],
      "text/markdown": [
       "<center>$L=\\begin{bmatrix}1.0&0.0&0.0&0.0\\\\-0.3&1.0&0.0&0.0\\\\0.5&-2.499999999650555e6&1.0&0.0\\\\0.2&-2.3999999996645334e6&0.9599996800001067&1.0\\end{bmatrix}$</center>\n"
      ],
      "text/plain": [
       "  <center>\u001b[35mL=\\begin{bmatrix}1.0&0.0&0.0&0.0\\\\-0.3&1.0&0.0&0.0\\\\0.5&-2.499999999650555e6&1.0&0.0\\\\0.2&-2.3999999996645334e6&0.9599996800001067&1.0\\end{bmatrix}\u001b[39m</center>"
      ]
     },
     "execution_count": 5,
     "metadata": {},
     "output_type": "execute_result"
    }
   ],
   "source": [
    "L,U=LU!(A);\n",
    "@latex L"
   ]
  },
  {
   "cell_type": "code",
   "execution_count": 6,
   "id": "commercial-footwear",
   "metadata": {},
   "outputs": [
    {
     "data": {
      "text/latex": [
       "<center>$U=\\begin{bmatrix}10.0&-7.0&0.0&1.0\\\\0.0&-1.000000000139778e-6&6.0&2.3\\\\0.0&0.0&1.5000004997903332e7&5.749998499196276e6\\\\0.0&0.0&0.0&5.079998907178727\\end{bmatrix}$</center>\n",
       "\n"
      ],
      "text/markdown": [
       "<center>$U=\\begin{bmatrix}10.0&-7.0&0.0&1.0\\\\0.0&-1.000000000139778e-6&6.0&2.3\\\\0.0&0.0&1.5000004997903332e7&5.749998499196276e6\\\\0.0&0.0&0.0&5.079998907178727\\end{bmatrix}$</center>\n"
      ],
      "text/plain": [
       "  <center>\u001b[35mU=\\begin{bmatrix}10.0&-7.0&0.0&1.0\\\\0.0&-1.000000000139778e-6&6.0&2.3\\\\0.0&0.0&1.5000004997903332e7&5.749998499196276e6\\\\0.0&0.0&0.0&5.079998907178727\\end{bmatrix}\u001b[39m</center>"
      ]
     },
     "execution_count": 6,
     "metadata": {},
     "output_type": "execute_result"
    }
   ],
   "source": [
    "@latex U"
   ]
  },
  {
   "cell_type": "code",
   "execution_count": 7,
   "id": "outstanding-update",
   "metadata": {},
   "outputs": [
    {
     "data": {
      "text/latex": [
       "<center>$δA=\\begin{bmatrix}0.0&0.0&0.0&0.0\\\\0.0&0.0&0.0&-2.220446049250313e-16\\\\0.0&1.1102230246251565e-16&0.0&0.0\\\\0.0&4.440892098500626e-16&6.4116548942624e-10&0.0\\end{bmatrix}$</center>\n",
       "\n"
      ],
      "text/markdown": [
       "<center>$δA=\\begin{bmatrix}0.0&0.0&0.0&0.0\\\\0.0&0.0&0.0&-2.220446049250313e-16\\\\0.0&1.1102230246251565e-16&0.0&0.0\\\\0.0&4.440892098500626e-16&6.4116548942624e-10&0.0\\end{bmatrix}$</center>\n"
      ],
      "text/plain": [
       "  <center>\u001b[35mδA=\\begin{bmatrix}0.0&0.0&0.0&0.0\\\\0.0&0.0&0.0&-2.220446049250313e-16\\\\0.0&1.1102230246251565e-16&0.0&0.0\\\\0.0&4.440892098500626e-16&6.4116548942624e-10&0.0\\end{bmatrix}\u001b[39m</center>"
      ]
     },
     "execution_count": 7,
     "metadata": {},
     "output_type": "execute_result"
    }
   ],
   "source": [
    "@latex δA = L*U - A"
   ]
  },
  {
   "cell_type": "code",
   "execution_count": 8,
   "id": "stable-hammer",
   "metadata": {},
   "outputs": [
    {
     "data": {
      "text/plain": [
       "-762.0000900767544"
      ]
     },
     "execution_count": 8,
     "metadata": {},
     "output_type": "execute_result"
    }
   ],
   "source": [
    "DetA = U |> diag |> prod"
   ]
  },
  {
   "cell_type": "code",
   "execution_count": 9,
   "id": "furnished-belly",
   "metadata": {},
   "outputs": [
    {
     "data": {
      "text/plain": [
       "LinearSolveWithLU! (generic function with 1 method)"
      ]
     },
     "execution_count": 9,
     "metadata": {},
     "output_type": "execute_result"
    }
   ],
   "source": [
    "function LinearSolveWithLU!(L::Matrix,U::Matrix,b::Vector)\n",
    "    n = size(b)[1]\n",
    "    y = zeros(n)\n",
    "    for i = 1:n\n",
    "        y[i:i,1:1] = b[i:i,1:1] - L[i:i,1:i-1]*y[1:i-1,1:1]\n",
    "    end\n",
    "    x = zeros(n)\n",
    "    for i = n:-1:1\n",
    "        x[i:i,1:1] = (y[i:i,1:1]-U[i:i,i+1:n]*x[i+1:n,1])/U[i,i]\n",
    "    end\n",
    "    return x\n",
    "end"
   ]
  },
  {
   "cell_type": "code",
   "execution_count": 10,
   "id": "major-letter",
   "metadata": {},
   "outputs": [
    {
     "data": {
      "text/latex": [
       "<center>$x=\\begin{bmatrix}-6.09103523174781e-10\\\\-1.0000000008881784\\\\1.0000000000483817\\\\0.9999999998737863\\end{bmatrix}$</center>\n",
       "\n"
      ],
      "text/markdown": [
       "<center>$x=\\begin{bmatrix}-6.09103523174781e-10\\\\-1.0000000008881784\\\\1.0000000000483817\\\\0.9999999998737863\\end{bmatrix}$</center>\n"
      ],
      "text/plain": [
       "  <center>\u001b[35mx=\\begin{bmatrix}-6.09103523174781e-10\\\\-1.0000000008881784\\\\1.0000000000483817\\\\0.9999999998737863\\end{bmatrix}\u001b[39m</center>"
      ]
     },
     "execution_count": 10,
     "metadata": {},
     "output_type": "execute_result"
    }
   ],
   "source": [
    "@latex x=LinearSolveWithLU!(L,U,b)"
   ]
  },
  {
   "cell_type": "markdown",
   "id": "vertical-administrator",
   "metadata": {},
   "source": [
    "## Gauss 消去法及列主元改进"
   ]
  },
  {
   "cell_type": "code",
   "execution_count": 132,
   "id": "adverse-parameter",
   "metadata": {},
   "outputs": [
    {
     "data": {
      "text/plain": [
       "GaussEliminate (generic function with 1 method)"
      ]
     },
     "execution_count": 132,
     "metadata": {},
     "output_type": "execute_result"
    }
   ],
   "source": [
    "function GaussEliminate(A::Matrix,b::Vector;DisableMCP::Bool=false)\n",
    "    n = length(b)\n",
    "    Ab = [A b]\n",
    "    for i = 1:n-1\n",
    "        if !DisableMCP\n",
    "            # Use Maximal Column Pivoting Method to lower error\n",
    "            iₘ = i-1+argmax(abs.(Ab[i:n,i]))\n",
    "            i == iₘ || @swap Ab[i,i:end],Ab[iₘ,i:end]\n",
    "        end\n",
    "        Ab[i+1:n,i+1:end] -= Ab[i+1:n,i:i]*Ab[i:i,i+1:end]/Ab[i,i]\n",
    "    end\n",
    "    x = Ab[:,n+1]\n",
    "    for i = n:-1:1\n",
    "        x[i] /= Ab[i,i]\n",
    "        x[1:i-1] -= Ab[1:i-1,i]*x[i]\n",
    "    end\n",
    "    return x\n",
    "end"
   ]
  },
  {
   "cell_type": "code",
   "execution_count": 133,
   "id": "innovative-textbook",
   "metadata": {},
   "outputs": [
    {
     "data": {
      "text/latex": [
       "<center>$x=\\begin{bmatrix}-5.483923537497049e-10\\\\-1.0000000008881784\\\\1.0000000002811078\\\\0.9999999992666749\\end{bmatrix}$</center>\n",
       "\n"
      ],
      "text/markdown": [
       "<center>$x=\\begin{bmatrix}-5.483923537497049e-10\\\\-1.0000000008881784\\\\1.0000000002811078\\\\0.9999999992666749\\end{bmatrix}$</center>\n"
      ],
      "text/plain": [
       "  <center>\u001b[35mx=\\begin{bmatrix}-5.483923537497049e-10\\\\-1.0000000008881784\\\\1.0000000002811078\\\\0.9999999992666749\\end{bmatrix}\u001b[39m</center>"
      ]
     },
     "execution_count": 133,
     "metadata": {},
     "output_type": "execute_result"
    }
   ],
   "source": [
    "@latex x = GaussEliminate(A,b;DisableMCP=true)"
   ]
  },
  {
   "cell_type": "code",
   "execution_count": 134,
   "id": "outstanding-algebra",
   "metadata": {},
   "outputs": [
    {
     "data": {
      "text/latex": [
       "<center>$x=\\begin{bmatrix}2.6645352591003756e-16\\\\-0.9999999999999997\\\\0.9999999999999999\\\\1.0\\end{bmatrix}$</center>\n",
       "\n"
      ],
      "text/markdown": [
       "<center>$x=\\begin{bmatrix}2.6645352591003756e-16\\\\-0.9999999999999997\\\\0.9999999999999999\\\\1.0\\end{bmatrix}$</center>\n"
      ],
      "text/plain": [
       "  <center>\u001b[35mx=\\begin{bmatrix}2.6645352591003756e-16\\\\-0.9999999999999997\\\\0.9999999999999999\\\\1.0\\end{bmatrix}\u001b[39m</center>"
      ]
     },
     "execution_count": 134,
     "metadata": {},
     "output_type": "execute_result"
    }
   ],
   "source": [
    "@latex x = GaussEliminate(A,b)"
   ]
  },
  {
   "cell_type": "code",
   "execution_count": 135,
   "id": "catholic-minister",
   "metadata": {},
   "outputs": [
    {
     "data": {
      "text/plain": [
       "BenchmarkTools.Trial: \n",
       "  memory estimate:  4.86 KiB\n",
       "  allocs estimate:  44\n",
       "  --------------\n",
       "  minimum time:     2.528 μs (0.00% GC)\n",
       "  median time:      2.718 μs (0.00% GC)\n",
       "  mean time:        3.128 μs (9.54% GC)\n",
       "  maximum time:     342.851 μs (98.89% GC)\n",
       "  --------------\n",
       "  samples:          10000\n",
       "  evals/sample:     9"
      ]
     },
     "execution_count": 135,
     "metadata": {},
     "output_type": "execute_result"
    }
   ],
   "source": [
    "@benchmark GaussEliminate(A,b)"
   ]
  },
  {
   "cell_type": "markdown",
   "id": "conceptual-minority",
   "metadata": {},
   "source": [
    "## 列主元的LU分解"
   ]
  },
  {
   "cell_type": "code",
   "execution_count": 38,
   "id": "automated-slide",
   "metadata": {},
   "outputs": [
    {
     "data": {
      "text/plain": [
       "P⁻¹LU! (generic function with 1 method)"
      ]
     },
     "execution_count": 38,
     "metadata": {},
     "output_type": "execute_result"
    }
   ],
   "source": [
    "function P⁻¹LU!(A::Matrix)\n",
    "    # deepcopy otherwise you will change the origin data\n",
    "    A = A |> deepcopy\n",
    "    n = size(A)[1]\n",
    "    @assert n == size(A)[2] \"The Matrix must be square matrix!\"\n",
    "    Iₚ = zeros(Int8,n)\n",
    "    for r = 1:n\n",
    "        #1 calculate s\n",
    "        A[r:n,r:r] -= A[r:n,1:r-1]*A[1:r-1,r:r]\n",
    "        \n",
    "        #2 choose main element\n",
    "        iᵣ = r-1+argmax(abs.(A[r:n,r]))\n",
    "        Iₚ[r] = iᵣ\n",
    "        \n",
    "        #3 swap row of A\n",
    "        r == iᵣ || @swap A[r,:],A[iᵣ,:]\n",
    "        \n",
    "        #4 calculate L,U same as function LU!\n",
    "        A[r+1:n,r:r] /= A[r,r]\n",
    "        A[r:r,r+1:n] -= A[r:r,1:r-1]*A[1:r-1,r+1:n]\n",
    "    end\n",
    "    return A,Iₚ\n",
    "end"
   ]
  },
  {
   "cell_type": "code",
   "execution_count": 39,
   "id": "interim-instrumentation",
   "metadata": {},
   "outputs": [
    {
     "data": {
      "text/latex": [
       "<center>$LUᵤₙᵢₒₙ=\\begin{bmatrix}10.0&-7.0&0.0&1.0\\\\0.5&2.5&5.0&-1.5\\\\-0.3&-4.000000000559112e-7&6.000002&2.2999994\\\\0.2&0.9600000000000002&-0.7999997333334223&5.079998906667031\\end{bmatrix}$</center>\n",
       "\n"
      ],
      "text/markdown": [
       "<center>$LUᵤₙᵢₒₙ=\\begin{bmatrix}10.0&-7.0&0.0&1.0\\\\0.5&2.5&5.0&-1.5\\\\-0.3&-4.000000000559112e-7&6.000002&2.2999994\\\\0.2&0.9600000000000002&-0.7999997333334223&5.079998906667031\\end{bmatrix}$</center>\n"
      ],
      "text/plain": [
       "  <center>\u001b[35mLUᵤₙᵢₒₙ=\\begin{bmatrix}10.0&-7.0&0.0&1.0\\\\0.5&2.5&5.0&-1.5\\\\-0.3&-4.000000000559112e-7&6.000002&2.2999994\\\\0.2&0.9600000000000002&-0.7999997333334223&5.079998906667031\\end{bmatrix}\u001b[39m</center>"
      ]
     },
     "execution_count": 39,
     "metadata": {},
     "output_type": "execute_result"
    }
   ],
   "source": [
    "LUᵤₙᵢₒₙ,Iₚ=P⁻¹LU!(A);\n",
    "@latex LUᵤₙᵢₒₙ"
   ]
  },
  {
   "cell_type": "code",
   "execution_count": 40,
   "id": "private-mount",
   "metadata": {},
   "outputs": [
    {
     "data": {
      "text/latex": [
       "<center>$Iₚ=\\begin{bmatrix}1\\\\3\\\\3\\\\4\\end{bmatrix}$</center>\n",
       "\n"
      ],
      "text/markdown": [
       "<center>$Iₚ=\\begin{bmatrix}1\\\\3\\\\3\\\\4\\end{bmatrix}$</center>\n"
      ],
      "text/plain": [
       "  <center>\u001b[35mIₚ=\\begin{bmatrix}1\\\\3\\\\3\\\\4\\end{bmatrix}\u001b[39m</center>"
      ]
     },
     "execution_count": 40,
     "metadata": {},
     "output_type": "execute_result"
    }
   ],
   "source": [
    "@latex Iₚ"
   ]
  },
  {
   "cell_type": "code",
   "execution_count": 14,
   "id": "manual-mathematics",
   "metadata": {},
   "outputs": [
    {
     "data": {
      "text/plain": [
       "LinearSolveWithP⁻¹LU! (generic function with 1 method)"
      ]
     },
     "execution_count": 14,
     "metadata": {},
     "output_type": "execute_result"
    }
   ],
   "source": [
    "function LinearSolveWithP⁻¹LU!(LUᵤₙᵢₒₙ ::Matrix,Iₚ::Vector,b::Vector)\n",
    "    b = b |> copy\n",
    "    n = length(Iₚ)\n",
    "    for i = 1:n-1\n",
    "        i == Iₚ[i] || @swap b[i],b[Iₚ[i]]\n",
    "    end\n",
    "    for i = 2:n\n",
    "        b[i] -= LUᵤₙᵢₒₙ[i,1:i-1]'*b[1:i-1]\n",
    "    end\n",
    "    b[n] /= LUᵤₙᵢₒₙ[n,n]\n",
    "    for i = n-1:-1:1\n",
    "        b[i] -= LUᵤₙᵢₒₙ[i,i+1:n]'*b[i+1:n]\n",
    "        b[i] /= LUᵤₙᵢₒₙ[i,i]\n",
    "    end\n",
    "    return b\n",
    "end"
   ]
  },
  {
   "cell_type": "code",
   "execution_count": 41,
   "id": "bizarre-tablet",
   "metadata": {},
   "outputs": [
    {
     "data": {
      "text/latex": [
       "<center>$x=\\begin{bmatrix}2.6645352591003756e-16\\\\-0.9999999999999997\\\\0.9999999999999999\\\\1.0\\end{bmatrix}$</center>\n",
       "\n"
      ],
      "text/markdown": [
       "<center>$x=\\begin{bmatrix}2.6645352591003756e-16\\\\-0.9999999999999997\\\\0.9999999999999999\\\\1.0\\end{bmatrix}$</center>\n"
      ],
      "text/plain": [
       "  <center>\u001b[35mx=\\begin{bmatrix}2.6645352591003756e-16\\\\-0.9999999999999997\\\\0.9999999999999999\\\\1.0\\end{bmatrix}\u001b[39m</center>"
      ]
     },
     "execution_count": 41,
     "metadata": {},
     "output_type": "execute_result"
    }
   ],
   "source": [
    "@latex x = LinearSolveWithP⁻¹LU!(LUᵤₙᵢₒₙ,Iₚ,b)"
   ]
  },
  {
   "cell_type": "code",
   "execution_count": null,
   "id": "protecting-graphics",
   "metadata": {},
   "outputs": [],
   "source": []
  }
 ],
 "metadata": {
  "kernelspec": {
   "display_name": "Julia",
   "language": "julia",
   "name": "julia-1.6"
  },
  "language_info": {
   "file_extension": ".jl",
   "mimetype": "application/julia",
   "name": "julia",
   "version": "1.6.0"
  }
 },
 "nbformat": 4,
 "nbformat_minor": 5
}
