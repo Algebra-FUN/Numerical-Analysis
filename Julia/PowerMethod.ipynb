{
 "cells": [
  {
   "cell_type": "code",
   "execution_count": 2,
   "id": "square-crowd",
   "metadata": {},
   "outputs": [
    {
     "data": {
      "text/plain": [
       "@latex (macro with 2 methods)"
      ]
     },
     "execution_count": 2,
     "metadata": {},
     "output_type": "execute_result"
    }
   ],
   "source": [
    "import Markdown\n",
    "using LambdaFn,LinearAlgebra\n",
    "include(\"MatrixKit.jl\")"
   ]
  },
  {
   "cell_type": "code",
   "execution_count": 3,
   "id": "afraid-peace",
   "metadata": {},
   "outputs": [
    {
     "data": {
      "text/plain": [
       "norm₂ (generic function with 1 method)"
      ]
     },
     "execution_count": 3,
     "metadata": {},
     "output_type": "execute_result"
    }
   ],
   "source": [
    "norm₂(v::Vector)=v.^2 |> sum |> sqrt"
   ]
  },
  {
   "cell_type": "code",
   "execution_count": 12,
   "id": "affected-watts",
   "metadata": {},
   "outputs": [
    {
     "data": {
      "text/plain": [
       "PowerMethod (generic function with 3 methods)"
      ]
     },
     "execution_count": 12,
     "metadata": {},
     "output_type": "execute_result"
    }
   ],
   "source": [
    "function PowerMethod(A::Matrix,v::Vector,digits::Int=3,epochₘₐₓ::Int=100)\n",
    "    report = \"## PowerMethod\\n\"\n",
    "    report *= matrix_form(:A,A)*\" , \"*matrix_form(:v,v) |> centralize\n",
    "    λ = 0\n",
    "    for i = 1:epochₘₐₓ\n",
    "        v₁ = A*v\n",
    "        λ₁ = abs.(v₁./v) |> maximum\n",
    "        ϵ = λ₁-λ\n",
    "        if ϵ |> abs |> @λ(round(_;digits=digits)) == 0\n",
    "            return λ₁,v₁/norm₂(v₁),report\n",
    "        end\n",
    "        report *= \"\\n### Loop $i\\n\"\n",
    "        report *= matrix_form(\"v_{$i}\",v) |> centralize\n",
    "        report *= \"``λ=$λ₁,ϵ=$ϵ`` \\n\"\n",
    "        λ,v = λ₁,v₁/norm₂(v₁)\n",
    "    end\n",
    "end"
   ]
  },
  {
   "cell_type": "code",
   "execution_count": 5,
   "id": "threatened-courtesy",
   "metadata": {},
   "outputs": [
    {
     "data": {
      "text/latex": [
       "<center>$A=\\begin{bmatrix}7.0&3.0&-2.0\\\\3.0&4.0&-1.0\\\\-2.0&-1.0&3.0\\end{bmatrix}$</center>\n",
       "\n"
      ],
      "text/markdown": [
       "<center>$A=\\begin{bmatrix}7.0&3.0&-2.0\\\\3.0&4.0&-1.0\\\\-2.0&-1.0&3.0\\end{bmatrix}$</center>\n"
      ],
      "text/plain": [
       "  <center>\u001b[35mA=\\begin{bmatrix}7.0&3.0&-2.0\\\\3.0&4.0&-1.0\\\\-2.0&-1.0&3.0\\end{bmatrix}\u001b[39m</center>"
      ]
     },
     "execution_count": 5,
     "metadata": {},
     "output_type": "execute_result"
    }
   ],
   "source": [
    "@latex A = [7. 3 -2;3 4 -1;-2 -1 3]"
   ]
  },
  {
   "cell_type": "code",
   "execution_count": 13,
   "id": "celtic-kitty",
   "metadata": {},
   "outputs": [
    {
     "data": {
      "text/latex": [
       "\\subsection{PowerMethod}\n",
       "<center>$A=\\begin{bmatrix}7.0&3.0&-2.0\\\\3.0&4.0&-1.0\\\\-2.0&-1.0&3.0\\end{bmatrix}$ , $v=\\begin{bmatrix}1\\\\2\\\\3\\end{bmatrix}$</center>\n",
       "\n",
       "\\subsubsection{Loop 1}\n",
       "<center>$v_{1}=\\begin{bmatrix}1\\\\2\\\\3\\end{bmatrix}$</center>$λ=7.0,ϵ=7.0$ \n",
       "\n",
       "\\subsubsection{Loop 2}\n",
       "<center>$v_{2}=\\begin{bmatrix}0.595879571531124\\\\0.6810052246069989\\\\0.4256282653793743\\end{bmatrix}$</center>$λ=9.000000000000002,ϵ=2.0000000000000018$ \n",
       "\n",
       "\\subsubsection{Loop 3}\n",
       "<center>$v_{3}=\\begin{bmatrix}0.792343142713512\\\\0.6036900134960091\\\\-0.088038126968168\\end{bmatrix}$</center>$λ=27.85714285714286,ϵ=18.85714285714286$ \n",
       "\n",
       "\\subsubsection{Loop 4}\n",
       "<center>$v_{4}=\\begin{bmatrix}0.8096295054269433\\\\0.5244344709610249\\\\-0.26356887071494817\\end{bmatrix}$</center>$λ=11.133333333333331,ϵ=-16.72380952380953$ \n",
       "\n",
       "\\subsubsection{Loop 5}\n",
       "<center>$v_{5}=\\begin{bmatrix}0.8103116533020607\\\\0.49969453615843107\\\\-0.3061052025959237\\end{bmatrix}$</center>$λ=9.926761860893597,ϵ=-1.2065714724397338$ \n",
       "\n",
       "\\subsubsection{Loop 6}\n",
       "<center>$v_{6}=\\begin{bmatrix}0.8104105159323053\\\\0.49309038293451934\\\\-0.31638057766529193\\end{bmatrix}$</center>$λ=9.681546099948958,ϵ=-0.24521576094463882$ \n",
       "\n",
       "\\subsubsection{Loop 7}\n",
       "<center>$v_{7}=\\begin{bmatrix}0.8104652347751754\\\\0.4913835311124658\\\\-0.31888607459759716\\end{bmatrix}$</center>$λ=9.62403964590912,ϵ=-0.05750645403983867$ \n",
       "\n",
       "\\subsubsection{Loop 8}\n",
       "<center>$v_{8}=\\begin{bmatrix}0.8104878977465579\\\\0.49094716103498337\\\\-0.3195000041910095\\end{bmatrix}$</center>$λ=9.610087414163257,ϵ=-0.01395223174586313$ \n",
       "\n",
       "\\subsubsection{Loop 9}\n",
       "<center>$v_{9}=\\begin{bmatrix}0.810495595709143\\\\0.49083622002338506\\\\-0.3196508946479525\\end{bmatrix}$</center>$λ=9.60666823337858,ϵ=-0.003419180784677067$ \n",
       "\n",
       "\\subsubsection{Loop 10}\n",
       "<center>$v_{10}=\\begin{bmatrix}0.8104979516697643\\\\0.49080812076296304\\\\-0.3196880650450453\\end{bmatrix}$</center>$λ=9.605826913822792,ϵ=-0.0008413195557874786$ \n",
       "\n"
      ],
      "text/markdown": [
       "## PowerMethod\n",
       "\n",
       "<center>$A=\\begin{bmatrix}7.0&3.0&-2.0\\\\3.0&4.0&-1.0\\\\-2.0&-1.0&3.0\\end{bmatrix}$ , $v=\\begin{bmatrix}1\\\\2\\\\3\\end{bmatrix}$</center>\n",
       "\n",
       "### Loop 1\n",
       "\n",
       "<center>$v_{1}=\\begin{bmatrix}1\\\\2\\\\3\\end{bmatrix}$</center>$λ=7.0,ϵ=7.0$ \n",
       "\n",
       "### Loop 2\n",
       "\n",
       "<center>$v_{2}=\\begin{bmatrix}0.595879571531124\\\\0.6810052246069989\\\\0.4256282653793743\\end{bmatrix}$</center>$λ=9.000000000000002,ϵ=2.0000000000000018$ \n",
       "\n",
       "### Loop 3\n",
       "\n",
       "<center>$v_{3}=\\begin{bmatrix}0.792343142713512\\\\0.6036900134960091\\\\-0.088038126968168\\end{bmatrix}$</center>$λ=27.85714285714286,ϵ=18.85714285714286$ \n",
       "\n",
       "### Loop 4\n",
       "\n",
       "<center>$v_{4}=\\begin{bmatrix}0.8096295054269433\\\\0.5244344709610249\\\\-0.26356887071494817\\end{bmatrix}$</center>$λ=11.133333333333331,ϵ=-16.72380952380953$ \n",
       "\n",
       "### Loop 5\n",
       "\n",
       "<center>$v_{5}=\\begin{bmatrix}0.8103116533020607\\\\0.49969453615843107\\\\-0.3061052025959237\\end{bmatrix}$</center>$λ=9.926761860893597,ϵ=-1.2065714724397338$ \n",
       "\n",
       "### Loop 6\n",
       "\n",
       "<center>$v_{6}=\\begin{bmatrix}0.8104105159323053\\\\0.49309038293451934\\\\-0.31638057766529193\\end{bmatrix}$</center>$λ=9.681546099948958,ϵ=-0.24521576094463882$ \n",
       "\n",
       "### Loop 7\n",
       "\n",
       "<center>$v_{7}=\\begin{bmatrix}0.8104652347751754\\\\0.4913835311124658\\\\-0.31888607459759716\\end{bmatrix}$</center>$λ=9.62403964590912,ϵ=-0.05750645403983867$ \n",
       "\n",
       "### Loop 8\n",
       "\n",
       "<center>$v_{8}=\\begin{bmatrix}0.8104878977465579\\\\0.49094716103498337\\\\-0.3195000041910095\\end{bmatrix}$</center>$λ=9.610087414163257,ϵ=-0.01395223174586313$ \n",
       "\n",
       "### Loop 9\n",
       "\n",
       "<center>$v_{9}=\\begin{bmatrix}0.810495595709143\\\\0.49083622002338506\\\\-0.3196508946479525\\end{bmatrix}$</center>$λ=9.60666823337858,ϵ=-0.003419180784677067$ \n",
       "\n",
       "### Loop 10\n",
       "\n",
       "<center>$v_{10}=\\begin{bmatrix}0.8104979516697643\\\\0.49080812076296304\\\\-0.3196880650450453\\end{bmatrix}$</center>$λ=9.605826913822792,ϵ=-0.0008413195557874786$ \n"
      ],
      "text/plain": [
       "\u001b[1m  PowerMethod\u001b[22m\n",
       "\u001b[1m  =============\u001b[22m\n",
       "\n",
       "  <center>\u001b[35mA=\\begin{bmatrix}7.0&3.0&-2.0\\\\3.0&4.0&-1.0\\\\-2.0&-1.0&3.0\\end{bmatrix}\u001b[39m\n",
       "  , \u001b[35mv=\\begin{bmatrix}1\\\\2\\\\3\\end{bmatrix}\u001b[39m</center>\n",
       "\n",
       "\u001b[1m  Loop 1\u001b[22m\n",
       "\u001b[1m  ––––––––\u001b[22m\n",
       "\n",
       "  <center>\u001b[35mv_{1}=\\begin{bmatrix}1\\\\2\\\\3\\end{bmatrix}\u001b[39m</center>\u001b[35mλ=7.0,ϵ=7.0\u001b[39m\n",
       "\n",
       "\u001b[1m  Loop 2\u001b[22m\n",
       "\u001b[1m  ––––––––\u001b[22m\n",
       "\n",
       "  <center>\u001b[35mv_{2}=\\begin{bmatrix}0.595879571531124\\\\0.6810052246069989\\\\0.4256282653793743\\end{bmatrix}\u001b[39m</center>\u001b[35mλ=9.000000000000002,ϵ=2.0000000000000018\u001b[39m\n",
       "\n",
       "\u001b[1m  Loop 3\u001b[22m\n",
       "\u001b[1m  ––––––––\u001b[22m\n",
       "\n",
       "  <center>\u001b[35mv_{3}=\\begin{bmatrix}0.792343142713512\\\\0.6036900134960091\\\\-0.088038126968168\\end{bmatrix}\u001b[39m</center>\u001b[35mλ=27.85714285714286,ϵ=18.85714285714286\u001b[39m\n",
       "\n",
       "\u001b[1m  Loop 4\u001b[22m\n",
       "\u001b[1m  ––––––––\u001b[22m\n",
       "\n",
       "  <center>\u001b[35mv_{4}=\\begin{bmatrix}0.8096295054269433\\\\0.5244344709610249\\\\-0.26356887071494817\\end{bmatrix}\u001b[39m</center>\u001b[35mλ=11.133333333333331,ϵ=-16.72380952380953\u001b[39m\n",
       "\n",
       "\u001b[1m  Loop 5\u001b[22m\n",
       "\u001b[1m  ––––––––\u001b[22m\n",
       "\n",
       "  <center>\u001b[35mv_{5}=\\begin{bmatrix}0.8103116533020607\\\\0.49969453615843107\\\\-0.3061052025959237\\end{bmatrix}\u001b[39m</center>\u001b[35mλ=9.926761860893597,ϵ=-1.2065714724397338\u001b[39m\n",
       "\n",
       "\u001b[1m  Loop 6\u001b[22m\n",
       "\u001b[1m  ––––––––\u001b[22m\n",
       "\n",
       "  <center>\u001b[35mv_{6}=\\begin{bmatrix}0.8104105159323053\\\\0.49309038293451934\\\\-0.31638057766529193\\end{bmatrix}\u001b[39m</center>\u001b[35mλ=9.681546099948958,ϵ=-0.24521576094463882\u001b[39m\n",
       "\n",
       "\u001b[1m  Loop 7\u001b[22m\n",
       "\u001b[1m  ––––––––\u001b[22m\n",
       "\n",
       "  <center>\u001b[35mv_{7}=\\begin{bmatrix}0.8104652347751754\\\\0.4913835311124658\\\\-0.31888607459759716\\end{bmatrix}\u001b[39m</center>\u001b[35mλ=9.62403964590912,ϵ=-0.05750645403983867\u001b[39m\n",
       "\n",
       "\u001b[1m  Loop 8\u001b[22m\n",
       "\u001b[1m  ––––––––\u001b[22m\n",
       "\n",
       "  <center>\u001b[35mv_{8}=\\begin{bmatrix}0.8104878977465579\\\\0.49094716103498337\\\\-0.3195000041910095\\end{bmatrix}\u001b[39m</center>\u001b[35mλ=9.610087414163257,ϵ=-0.01395223174586313\u001b[39m\n",
       "\n",
       "\u001b[1m  Loop 9\u001b[22m\n",
       "\u001b[1m  ––––––––\u001b[22m\n",
       "\n",
       "  <center>\u001b[35mv_{9}=\\begin{bmatrix}0.810495595709143\\\\0.49083622002338506\\\\-0.3196508946479525\\end{bmatrix}\u001b[39m</center>\u001b[35mλ=9.60666823337858,ϵ=-0.003419180784677067\u001b[39m\n",
       "\n",
       "\u001b[1m  Loop 10\u001b[22m\n",
       "\u001b[1m  –––––––––\u001b[22m\n",
       "\n",
       "  <center>\u001b[35mv_{10}=\\begin{bmatrix}0.8104979516697643\\\\0.49080812076296304\\\\-0.3196880650450453\\end{bmatrix}\u001b[39m</center>\u001b[35mλ=9.605826913822792,ϵ=-0.0008413195557874786\u001b[39m"
      ]
     },
     "execution_count": 13,
     "metadata": {},
     "output_type": "execute_result"
    }
   ],
   "source": [
    "λ,v,report = PowerMethod(A,[1;2;3]);\n",
    "Markdown.parse(report)"
   ]
  },
  {
   "cell_type": "code",
   "execution_count": 76,
   "id": "heard-favor",
   "metadata": {},
   "outputs": [
    {
     "data": {
      "text/latex": [
       "<center>$v=\\begin{bmatrix}0.8104988189663089\\\\0.49079923598900027\\\\-0.31969950642256556\\end{bmatrix}$</center>\n",
       "\n"
      ],
      "text/markdown": [
       "<center>$v=\\begin{bmatrix}0.8104988189663089\\\\0.49079923598900027\\\\-0.31969950642256556\\end{bmatrix}$</center>\n"
      ],
      "text/plain": [
       "  <center>\u001b[35mv=\\begin{bmatrix}0.8104988189663089\\\\0.49079923598900027\\\\-0.31969950642256556\\end{bmatrix}\u001b[39m</center>"
      ]
     },
     "execution_count": 76,
     "metadata": {},
     "output_type": "execute_result"
    }
   ],
   "source": [
    "@latex v"
   ]
  },
  {
   "cell_type": "code",
   "execution_count": 81,
   "id": "forward-restoration",
   "metadata": {},
   "outputs": [
    {
     "data": {
      "text/plain": [
       "3-element Vector{Float64}:\n",
       "  7.785343186371937\n",
       "  4.714430667100515\n",
       " -3.0709117839156956"
      ]
     },
     "execution_count": 81,
     "metadata": {},
     "output_type": "execute_result"
    }
   ],
   "source": [
    "λ*v"
   ]
  },
  {
   "cell_type": "code",
   "execution_count": 78,
   "id": "posted-midnight",
   "metadata": {},
   "outputs": [
    {
     "data": {
      "text/plain": [
       "3-element Vector{Float64}:\n",
       "  7.785288453576294\n",
       "  4.714392907277493\n",
       " -3.070895393189315"
      ]
     },
     "execution_count": 78,
     "metadata": {},
     "output_type": "execute_result"
    }
   ],
   "source": [
    "A*v"
   ]
  },
  {
   "cell_type": "code",
   "execution_count": null,
   "id": "partial-hartford",
   "metadata": {},
   "outputs": [],
   "source": []
  }
 ],
 "metadata": {
  "kernelspec": {
   "display_name": "Julia",
   "language": "julia",
   "name": "julia-1.6"
  },
  "language_info": {
   "file_extension": ".jl",
   "mimetype": "application/julia",
   "name": "julia",
   "version": "1.6.0"
  }
 },
 "nbformat": 4,
 "nbformat_minor": 5
}
