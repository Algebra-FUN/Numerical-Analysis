{
 "cells": [
  {
   "cell_type": "markdown",
   "id": "psychological-appreciation",
   "metadata": {},
   "source": [
    "# 数值分析实验报告\n",
    "## 关于\n",
    "\n",
    "这是`数值分析`课程上机实验报告展示页\n",
    "\n",
    "## 目录索引\n",
    "- [LU分解与列主元的Gauss消去法解线性方程组](./LU&Gauss.html)\n",
    "- [多项式插值与三次样条插值](./Interpolate.html)\n",
    "- [矩阵特征值计算：幂法与反幂法](./PowerMethod.html)\n",
    "\n",
    "## github\n",
    "\n",
    "- [github](https://github.com/Algebra-FUN/Numerical-Analysis)\n",
    "- [gitee](https://gitee.com/Algebra-FUN/Numerical-Analysis)\n",
    "\n",
    "## Copyright\n",
    "\n",
    "> Copyright 2021 by Algebra-FUN(樊一飞)\n",
    ">\n",
    "> ALL RIGHTS RESERVED.\n"
   ]
  }
 ],
 "metadata": {
  "kernelspec": {
   "display_name": "Python 3",
   "language": "python",
   "name": "python3"
  },
  "language_info": {
   "codemirror_mode": {
    "name": "ipython",
    "version": 3
   },
   "file_extension": ".py",
   "mimetype": "text/x-python",
   "name": "python",
   "nbconvert_exporter": "python",
   "pygments_lexer": "ipython3",
   "version": "3.8.7"
  }
 },
 "nbformat": 4,
 "nbformat_minor": 5
}
